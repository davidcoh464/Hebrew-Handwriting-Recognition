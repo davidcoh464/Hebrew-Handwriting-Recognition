{
 "cells": [
  {
   "cell_type": "code",
   "execution_count": 1,
   "id": "9d0c2d02",
   "metadata": {},
   "outputs": [],
   "source": [
    "import cv2\n",
    "import numpy as np\n",
    "import os\n",
    "import matplotlib.pyplot as plt\n",
    "import keras\n",
    "from skimage import transform"
   ]
  },
  {
   "cell_type": "code",
   "execution_count": 199,
   "id": "25a79525",
   "metadata": {},
   "outputs": [],
   "source": [
    "model1 = keras.models.load_model('C:/Users/User/Downloads/models for char ocr/3/best of the best/best_model 7.h5')\n",
    "model2 = keras.models.load_model('C:/Users/User/Downloads/models for char ocr/3/best of the best/best_model 3.h5')\n",
    "model3 = keras.models.load_model('C:/Users/User/Downloads/models for char ocr/3/best of the best/best_model 4.h5')"
   ]
  },
  {
   "cell_type": "code",
   "execution_count": 3,
   "id": "3518e42d",
   "metadata": {},
   "outputs": [],
   "source": [
    "class_indices = {0: 'א',\n",
    "                 1: 'ע',\n",
    "                 2: 'ב',\n",
    "                 3: 'צ',\n",
    "                 4: 'ץ',\n",
    "                 5: 'כ',\n",
    "                 6: 'ך',\n",
    "                 7: 'ח',\n",
    "                 8: 'ד',\n",
    "                 9: 'ג',\n",
    "                 10: 'ה',\n",
    "                 11: 'ק',\n",
    "                 12: 'ל',\n",
    "                 13: 'מ',\n",
    "                 14: 'ם',\n",
    "                 15: 'נ',\n",
    "                 16: 'ו',\n",
    "                 17: 'פ',\n",
    "                 18: 'ף',\n",
    "                 19: 'ר',\n",
    "                 20: 'ס',\n",
    "                 21: 'ש',\n",
    "                 22: 'ת',\n",
    "                 23: 'ט',\n",
    "                 24: 'ו',\n",
    "                 25: 'י',\n",
    "                 26: 'ז'}\n",
    "\n",
    "class_reverse = {v: k for k, v in class_indices.items()}\n",
    "ends_letters = 'ןםףךץ'"
   ]
  },
  {
   "cell_type": "code",
   "execution_count": 4,
   "id": "b371f2cb",
   "metadata": {},
   "outputs": [],
   "source": [
    "def threshold_low_heigh(img_gray):\n",
    "    mid_color = np.median(img_gray)\n",
    "    low = int(max(0, 0.7 * mid_color))\n",
    "    high = int(min(255, 1.3 * mid_color))\n",
    "    return low, high"
   ]
  },
  {
   "cell_type": "code",
   "execution_count": 5,
   "id": "ddcfe76d",
   "metadata": {},
   "outputs": [],
   "source": [
    "import scipy.ndimage\n",
    "\n",
    "def correct_skew(gray, delta=1, limit=5):\n",
    "    def determine_score(arr, angle):\n",
    "        data = scipy.ndimage.rotate(arr, angle, reshape=False, order=0)\n",
    "        histogram = np.sum(data, axis=1, dtype=float)\n",
    "        score = np.sum((histogram[1:] - histogram[:-1]) ** 2, dtype=float)\n",
    "        return histogram, score\n",
    "\n",
    "    thresh = cv2.threshold(gray, 0, 255, cv2.THRESH_BINARY_INV + cv2.THRESH_OTSU)[1] \n",
    "\n",
    "    scores = []\n",
    "    angles = np.arange(-limit, limit + delta, delta)\n",
    "    for angle in angles:\n",
    "        histogram, score = determine_score(thresh, angle)\n",
    "        scores.append(score)\n",
    "\n",
    "    best_angle = angles[scores.index(max(scores))]\n",
    "\n",
    "    (h, w) = gray.shape[:2]\n",
    "    center = (w // 2, h // 2)\n",
    "    M = cv2.getRotationMatrix2D(center, best_angle, 1.0)\n",
    "    corrected = cv2.warpAffine(gray, M, (w, h), flags=cv2.INTER_CUBIC, \\\n",
    "            borderMode=cv2.BORDER_REPLICATE)\n",
    "\n",
    "    return best_angle, corrected"
   ]
  },
  {
   "cell_type": "code",
   "execution_count": 94,
   "id": "45fac0f4",
   "metadata": {},
   "outputs": [],
   "source": [
    "def image_resize(image, width = None, height = None, inter = cv2.INTER_AREA):\n",
    "    dim = None\n",
    "    (h, w) = image.shape[:2]\n",
    "        \n",
    "    if width is not None and height is not None:\n",
    "        dim = (width, height)\n",
    "    elif width is None:\n",
    "        r = height / float(h)\n",
    "        dim = (max(int(w * r),5), height)\n",
    "    else:\n",
    "        r = width / float(w)\n",
    "        dim = (width, max(int(h * r),5))\n",
    "        \n",
    "    return cv2.resize(image, dim, interpolation = inter)"
   ]
  },
  {
   "cell_type": "code",
   "execution_count": 7,
   "id": "e815eca2",
   "metadata": {},
   "outputs": [],
   "source": [
    "def remove_shadow(gray):\n",
    "    dilated_img = cv2.dilate(gray, np.ones((7, 7), np.uint8))\n",
    "    bg_img = cv2.medianBlur(dilated_img.copy(), 21)\n",
    "    diff_img = 255 - cv2.absdiff(gray, bg_img)\n",
    "    norm_img = cv2.normalize(diff_img, None, alpha=0, beta=255, norm_type=cv2.NORM_MINMAX, dtype=cv2.CV_8UC1)\n",
    "    work_img = cv2.threshold(norm_img, 0, 255, cv2.THRESH_OTSU)[1]\n",
    "    return work_img"
   ]
  },
  {
   "cell_type": "code",
   "execution_count": 8,
   "id": "a51a8b22",
   "metadata": {},
   "outputs": [],
   "source": [
    "def remove_lines(gray_img, way ='vertical'):\n",
    "    img_h, img_w = gray_img.shape[:2]\n",
    "    k_size = img_h//20\n",
    "    kernel_size = (1, k_size)\n",
    "    \n",
    "    if way == 'horzintal':\n",
    "        k_size = img_w//20\n",
    "        kernel_size = (k_size, 1)\n",
    "        \n",
    "    thresh = cv2.threshold(gray_img, 0, 255, cv2.THRESH_BINARY_INV | cv2.THRESH_OTSU)[1]\n",
    "\n",
    "    kernel = cv2.getStructuringElement(cv2.MORPH_CROSS, kernel_size)\n",
    "    detected_lines = cv2.morphologyEx(thresh, cv2.MORPH_OPEN, kernel, iterations=2)\n",
    "\n",
    "    cnts = cv2.findContours(detected_lines, cv2.RETR_EXTERNAL, cv2.CHAIN_APPROX_SIMPLE)\n",
    "    cnts = cnts[0] if len(cnts) == 2 else cnts[1]\n",
    "\n",
    "    for c in cnts:\n",
    "        cv2.drawContours(gray_img, [c], -1, 255, 2)\n",
    "\n",
    "    return gray_img"
   ]
  },
  {
   "cell_type": "code",
   "execution_count": 9,
   "id": "2b37779c",
   "metadata": {},
   "outputs": [],
   "source": [
    "def sort_contours_word(cnts):\n",
    "    if len(cnts) == 0:\n",
    "        return cnts\n",
    "    boundingBoxes = [list(cv2.boundingRect(c)) for c in cnts]\n",
    "    # sort by y value \n",
    "    (cnts, boundingBoxes) = zip(*sorted(zip(cnts, boundingBoxes),key=lambda b: b[1][1]))\n",
    "    (cnts, boundingBoxes) = zip(*sorted(zip(cnts, boundingBoxes),key=lambda b: -(b[1][0] +b[1][2])))\n",
    "    return cnts"
   ]
  },
  {
   "cell_type": "code",
   "execution_count": 204,
   "id": "cce3bc34",
   "metadata": {},
   "outputs": [],
   "source": [
    "def detect_rows(image):\n",
    "    image = cv2.cvtColor(image, cv2.COLOR_BGR2GRAY)\n",
    "    image = remove_lines(image.copy(),way='horzintal')\n",
    "    if np.median(image) < 50:\n",
    "        image = cv2.bitwise_not(image)\n",
    "        \n",
    "    image = remove_shadow(image)\n",
    "    low, high = threshold_low_heigh(image)\n",
    "    \n",
    "    img_h, img_w = image.shape[:2]\n",
    "    blur_k_h = img_h//65 + ((img_h//65) % 2 == 0)\n",
    "    blur_k_w = img_w//65 + ((img_w//65) % 2 == 0)\n",
    "    blur = cv2.GaussianBlur(image.copy(), (blur_k_w, blur_k_h), 0)\n",
    "    \n",
    "    thresh = cv2.threshold(blur, low, high, cv2.THRESH_BINARY_INV | cv2.THRESH_OTSU)[1]\n",
    "    \n",
    "    img_w-=5\n",
    "    thresh = thresh[:img_h,5:img_w]\n",
    "    image = image[:img_h,5:img_w]\n",
    "    img_w-=5\n",
    "    \n",
    "    kernel = cv2.getStructuringElement(cv2.MORPH_ERODE,(img_w//7, 1))\n",
    "    dilate = cv2.dilate(thresh, kernel, iterations=2)\n",
    "    \n",
    "    cnts = cv2.findContours(dilate, cv2.RETR_EXTERNAL, cv2.CHAIN_APPROX_SIMPLE)\n",
    "    cnts = cnts[0] if len(cnts) == 2 else cnts[1]\n",
    "\n",
    "    black = np.zeros_like(image)\n",
    "    list_roi = []\n",
    "    min_h = img_h//50\n",
    "    min_w = img_w//10\n",
    "    min_area = (min_w + 1) * (min_h + 1)\n",
    "    for c in cnts:\n",
    "        x,y,w,h = cv2.boundingRect(c)\n",
    "        if  w > min_w and h > min_h and cv2.contourArea(c) > min_area:\n",
    "            convexHull = cv2.convexHull(c)\n",
    "            w_min, h_min = convexHull.min(axis=0)[0]\n",
    "            w_min = max(0, w_min-10)\n",
    "            h_min = max(0, h_min-10)\n",
    "            \n",
    "            w_max, h_max = convexHull.max(axis=0)[0]\n",
    "            w_max = min(img_w, w_max+10)\n",
    "            h_max =  min(img_h, h_max+10)\n",
    "            \n",
    "            img2 = image.copy()\n",
    "            black2 = black.copy()\n",
    "            cv2.drawContours(black2, [convexHull],-1, 255, -1)\n",
    "            black2 = cv2.threshold(black2, low, high, cv2.THRESH_BINARY)[1]\n",
    "            img2 = cv2.bitwise_not(img2)\n",
    "            masked = cv2.bitwise_and(img2, img2, mask = black2)\n",
    "            masked = cv2.bitwise_not(masked)\n",
    "            list_roi.append(masked[h_min:h_max, w_min:w_max])\n",
    "        \n",
    "    list_roi.reverse()\n",
    "    return list_roi"
   ]
  },
  {
   "cell_type": "code",
   "execution_count": 143,
   "id": "f547a2b7",
   "metadata": {},
   "outputs": [],
   "source": [
    "def detect_words(image):\n",
    "    image = image_resize(image, width=1000)\n",
    "    blur_gray = cv2.GaussianBlur(image.copy(), (11,5), 0)\n",
    "    low, high = threshold_low_heigh(image)\n",
    "    thresh = cv2.threshold(blur_gray, low, high, cv2.THRESH_BINARY_INV | cv2.THRESH_OTSU)[1]\n",
    "    edges = cv2.Canny(thresh, low, high)\n",
    "    kernel = cv2.getStructuringElement(cv2.MORPH_ERODE,(2,10))\n",
    "    dilate = cv2.dilate(edges, kernel, iterations=13)\n",
    "    cnts = cv2.findContours(dilate, cv2.RETR_EXTERNAL, cv2.CHAIN_APPROX_SIMPLE)\n",
    "    cnts = cnts[0] if len(cnts) == 2 else cnts[1]\n",
    "    cnts = sort_contours_word(cnts)\n",
    "    \n",
    "    black = np.zeros_like(image)\n",
    "    list_words = []\n",
    "    min_h = image.shape[0]//100\n",
    "    min_w = image.shape[1]//100\n",
    "    min_area = (min_h + 1)*(min_w + 1)\n",
    "    for c in cnts:\n",
    "        x,y,w,h = cv2.boundingRect(c)\n",
    "        if cv2.contourArea(c) > min_area and w > min_w and h > min_h:\n",
    "            convexHull = cv2.convexHull(c)\n",
    "            w_min, h_min = convexHull.min(axis=0)[0]\n",
    "            \n",
    "            w_max, h_max = convexHull.max(axis=0)[0]\n",
    "            \n",
    "            img2 = image.copy()\n",
    "            black2 = black.copy()\n",
    "            cv2.drawContours(black2, [convexHull],-1, 255, -1)\n",
    "            black2 = cv2.threshold(black2, low, high, cv2.THRESH_BINARY)[1]\n",
    "            img2 = cv2.bitwise_not(img2)\n",
    "            masked = cv2.bitwise_and(img2, img2, mask = black2)\n",
    "            masked = cv2.bitwise_not(masked)\n",
    "            list_words.append(masked[h_min:h_max, w_min:w_max])\n",
    "    return list_words"
   ]
  },
  {
   "cell_type": "code",
   "execution_count": 12,
   "id": "4140926f",
   "metadata": {},
   "outputs": [],
   "source": [
    "def pre_process_image(img):\n",
    "    (tH, tW) = img.shape\n",
    "    if tW > tH:\n",
    "        img = image_resize(img, width=40, inter=cv2.INTER_AREA)\n",
    "    else:\n",
    "        img = image_resize(img, height=40, inter=cv2.INTER_AREA)\n",
    "    (tH, tW) = img.shape \n",
    "    dX = int(max(0, 40 - tW) / 2.0)\n",
    "    dY = int(max(0, 40 - tH) / 2.0)\n",
    "    padded = cv2.copyMakeBorder(img, top=dY, bottom=dY,left=dX,\n",
    "                                right=dX, borderType=cv2.BORDER_CONSTANT,value=(0, 0, 0))\n",
    "    padded = cv2.resize(padded, (40, 40),interpolation = cv2.INTER_AREA)\n",
    "    return padded"
   ]
  },
  {
   "cell_type": "code",
   "execution_count": 36,
   "id": "8c49bdd8",
   "metadata": {},
   "outputs": [],
   "source": [
    "def sort_contours_letters(cnts):\n",
    "    if len(cnts) == 0:\n",
    "        return cnts\n",
    "    boundingBoxes = [cv2.boundingRect(c)for c in cnts]\n",
    "    (cnts, boundingBoxes) = zip(*sorted(zip(cnts, boundingBoxes),key=lambda b: -(b[1][0] + b[1][2])))\n",
    "    return cnts"
   ]
  },
  {
   "cell_type": "code",
   "execution_count": 193,
   "id": "5c16e032",
   "metadata": {},
   "outputs": [],
   "source": [
    "def find_letters_size(list_rows):\n",
    "    letters_hight, number_letters = 0.0, 0.1\n",
    "    for row in list_rows:\n",
    "        list_words = detect_words(row)\n",
    "        for word in list_words:\n",
    "            blur_gray = cv2.GaussianBlur(word.copy(), (7, 5), 0)\n",
    "            low, high = threshold_low_heigh(word) \n",
    "            thresh = cv2.threshold(blur_gray, low, high, cv2.THRESH_BINARY_INV | cv2.THRESH_OTSU)[1]\n",
    "            edges = cv2.Canny(thresh, low, high)\n",
    "            kernel = cv2.getStructuringElement(cv2.MORPH_ERODE,(1,6))\n",
    "            dilate = cv2.dilate(edges, kernel, iterations=1)\n",
    "            cnts = cv2.findContours(dilate, cv2.RETR_EXTERNAL, cv2.CHAIN_APPROX_SIMPLE)\n",
    "            cnts = cnts[0] if len(cnts) == 2 else cnts[1]\n",
    "            img_h = word.shape[0]\n",
    "            img_w = word.shape[1]\n",
    "            min_h = max(img_h//10, 1)\n",
    "            min_w = max(img_w//30, 1)\n",
    "            min_area = (min_h + 1)*(min_w + 1)\n",
    "            for c in cnts:\n",
    "                _,_,_,h = cv2.boundingRect(c)\n",
    "                convexHull = cv2.convexHull(c)\n",
    "                w_min, h_min = convexHull.min(axis=0)[0]\n",
    "                w_max, h_max = convexHull.max(axis=0)[0]\n",
    "                h = (h_max-h_min)/(img_h*1.0)\n",
    "                letters_hight += h\n",
    "                number_letters +=1.0\n",
    "    return letters_hight/number_letters"
   ]
  },
  {
   "cell_type": "code",
   "execution_count": 191,
   "id": "81b22871",
   "metadata": {},
   "outputs": [],
   "source": [
    "def detect_letters(image):\n",
    "    blur_gray = cv2.GaussianBlur(image.copy(), (7, 5), 0)\n",
    "    low, high = threshold_low_heigh(image) \n",
    "    thresh = cv2.threshold(blur_gray, low, high, cv2.THRESH_BINARY_INV | cv2.THRESH_OTSU)[1]\n",
    "    edges = cv2.Canny(thresh, low, high)\n",
    "    kernel = cv2.getStructuringElement(cv2.MORPH_ERODE,(1,6))\n",
    "    dilate = cv2.dilate(edges, kernel, iterations=1)\n",
    "    cnts = cv2.findContours(dilate, cv2.RETR_EXTERNAL, cv2.CHAIN_APPROX_SIMPLE)\n",
    "    cnts = cnts[0] if len(cnts) == 2 else cnts[1]\n",
    "    cnts = sort_contours_letters(cnts)\n",
    "    \n",
    "    black = np.zeros_like(image)\n",
    "    list_latters = []\n",
    "    img_h = image.shape[0]\n",
    "    min_h = max(img_h//45,1)\n",
    "    min_w = max(image.shape[1]//50,1)\n",
    "    min_area = (min_h + 1)*(min_w + 1)\n",
    "    list_loc = []\n",
    "    for c in cnts:\n",
    "        x,y,w,h = cv2.boundingRect(c)\n",
    "        if cv2.contourArea(c) > min_area and w > min_w and h > min_h:\n",
    "            convexHull = cv2.convexHull(c)\n",
    "            w_min, h_min = convexHull.min(axis=0)[0]\n",
    "            \n",
    "            w_max, h_max = convexHull.max(axis=0)[0]\n",
    "            \n",
    "            img2 = image.copy()\n",
    "            black2 = black.copy()\n",
    "            cv2.drawContours(black2, [convexHull],-1, 255, -1)\n",
    "            black2 = cv2.threshold(black2, low, high, cv2.THRESH_BINARY)[1]\n",
    "            img2 = cv2.bitwise_not(img2)\n",
    "            masked = cv2.bitwise_and(img2, img2, mask = black2)\n",
    "            res = masked[h_min:h_max, w_min:w_max]\n",
    "            res = pre_process_image(res)\n",
    "            np_image = np.array(res).astype('float32')/255\n",
    "            np_image = transform.resize(np_image, (40, 40,1))\n",
    "            np_image = (np.expand_dims(np_image, 0))\n",
    "            list_latters.append(np_image)\n",
    "            list_loc.append((x,y,w,(h_max-h_min)/(img_h*1.0)))\n",
    "    return list_latters ,list_loc"
   ]
  },
  {
   "cell_type": "code",
   "execution_count": 16,
   "id": "2e1fe02e",
   "metadata": {},
   "outputs": [],
   "source": [
    "def predict_word(letters, model):\n",
    "    preds = model.predict(np.vstack(letters),verbose = 0)\n",
    "    s =''\n",
    "    for i in range(len(preds)):\n",
    "        #max_val = np.max(preds[i])\n",
    "        x = class_indices[np.argmax(preds[i])]\n",
    "        if i < len(preds)-1:\n",
    "            j = -1\n",
    "            while x in ends_letters:\n",
    "                x = class_indices[np.argpartition(preds[i],j)[j]]\n",
    "                j-=1\n",
    "        s+= x\n",
    "    return s"
   ]
  },
  {
   "cell_type": "code",
   "execution_count": 17,
   "id": "6822c209",
   "metadata": {},
   "outputs": [],
   "source": [
    "def getMaxOccurringChar(s):\n",
    "    count = [0] * 27\n",
    "    for c in s:\n",
    "        count[class_reverse[c]]+=1\n",
    "    val = (max(count))\n",
    "    res = class_indices[count.index(val)]\n",
    "    return res"
   ]
  },
  {
   "cell_type": "code",
   "execution_count": 18,
   "id": "38b9a8fa",
   "metadata": {},
   "outputs": [],
   "source": [
    "def correct_word(s, locations, avg_letter_hight):\n",
    "    size = len(s)-1\n",
    "    i = 0   \n",
    "    while i < size:\n",
    "        if s[i] == 'ו' and locations[i][-1] < avg_letter_hight *0.7:\n",
    "            s = s[:i] +'י'+ s[i+1:]\n",
    "        if s[i] == 'י' and locations[i][-1] > avg_letter_hight *0.8:\n",
    "            s = s[:i] +'ו'+ s[i+1:]\n",
    "        i = i +1\n",
    "        \n",
    "    if s[size] in 'יון':\n",
    "        if locations[size][-1] > avg_letter_hight *0.8:\n",
    "            if locations[size][-1] > avg_letter_hight *1.2:\n",
    "                s = s[:size] +'ן'\n",
    "            elif s[size] == 'י' or  locations[size][-1] < avg_letter_hight:\n",
    "                s = s[:size] +'ו'\n",
    "                \n",
    "        elif locations[size][-1] < avg_letter_hight *0.7 or s[size] == 'ן':\n",
    "            s = s[:size] +'י'\n",
    "    \n",
    "    i = 0\n",
    "    while i < size:\n",
    "        if s[i] in \"רה\" :\n",
    "            x1,y1,w1,h1 = locations[i]\n",
    "            x2,y2,w2,h2 = locations[i+1]\n",
    "            if x1 <= x2 + w2:\n",
    "                if s[i+1] in 'יחר':\n",
    "                    s = s[:i] + 'ה' + s[i+2:]\n",
    "                    size = size -1\n",
    "                    del locations[i+1]\n",
    "                elif s[i+1] in 'ון':\n",
    "                    s = s[:i] + 'ק' + s[i+2:]\n",
    "                    size = size -1\n",
    "                    del locations[i+1]\n",
    "        elif s[i] in 'א' and s[i+1] in 'רון':\n",
    "            x1,y1,w1,h1 = locations[i]\n",
    "            x2,y2,w2,h2 = locations[i+1]\n",
    "            if x1 < x2 + w2 +10:\n",
    "                s = s[:i] + 'א' + s[i+2:]\n",
    "                size = size -1 \n",
    "                del locations[i+1]\n",
    "        i = i+1\n",
    "    return s"
   ]
  },
  {
   "cell_type": "code",
   "execution_count": 20,
   "id": "e3be5203",
   "metadata": {},
   "outputs": [],
   "source": [
    "def predict_word_per_model(letters, locations, avg_letter_hight):\n",
    "    s1 = predict_word(letters, model1)\n",
    "    s2 = predict_word(letters, model2)\n",
    "    s3 = predict_word(letters, model3)\n",
    "    s = ''\n",
    "    for i in range(len(s1)):\n",
    "        c1, c2, c3 = s1[i], s2[i], s3[i]\n",
    "        if c2 == c3:\n",
    "            s = s[:i] + c2\n",
    "        else:\n",
    "            s = s[:i] + c1\n",
    "    return correct_word(s, locations, avg_letter_hight)"
   ]
  },
  {
   "cell_type": "code",
   "execution_count": 217,
   "id": "999a4036",
   "metadata": {},
   "outputs": [
    {
     "name": "stdout",
     "output_type": "stream",
     "text": [
      "זיהוי כתב יצ ב עב ר ית \n",
      "ישנו מודל לזיהוי כתב יד בהרבה שפות \n",
      "אבל לא בעברית בקורס זה ננסה \n",
      "לב נות מודל ראשון מסוג זה \n",
      "\n"
     ]
    }
   ],
   "source": [
    "image = cv2.imread('C:/Users/User/OneDrive/Pictures/heb handwritten/11.png')\n",
    "result = ''\n",
    "list_row = detect_rows(image)\n",
    "avg_letter_h = find_letters_size(list_row)\n",
    "for row in list_row:\n",
    "    list_words = detect_words(row)\n",
    "    for word in list_words:\n",
    "        list_letters, letters_loc = detect_letters(word)\n",
    "        if len(list_letters) != 0:\n",
    "            result += predict_word_per_model(list_letters,letters_loc, avg_letter_h)\n",
    "            result+=' '\n",
    "    result+='\\n'\n",
    "\n",
    "print(result)"
   ]
  },
  {
   "cell_type": "code",
   "execution_count": 150,
   "id": "8f832738",
   "metadata": {},
   "outputs": [],
   "source": [
    "f = open(\"output_file.txt\", \"w\", encoding='utf-8')\n",
    "f.write(result)\n",
    "f.close()"
   ]
  },
  {
   "cell_type": "code",
   "execution_count": 209,
   "id": "f7cf6b8f",
   "metadata": {},
   "outputs": [],
   "source": [
    "image = cv2.imread('C:/Users/User/OneDrive/Pictures/heb handwritten/11.png')\n",
    "result = ''\n",
    "list_row = detect_rows(image)"
   ]
  },
  {
   "cell_type": "code",
   "execution_count": 216,
   "id": "92dc70ab",
   "metadata": {},
   "outputs": [
    {
     "data": {
      "image/png": "[encoded data removed]",
      "text/plain": [
       "<Figure size 640x480 with 1 Axes>"
      ]
     },
     "metadata": {},
     "output_type": "display_data"
    }
   ],
   "source": [
    "plt.imshow(list_row[3], cmap='gray');"
   ]
  },
  {
   "cell_type": "code",
   "execution_count": 105,
   "id": "6307c28f",
   "metadata": {},
   "outputs": [
    {
     "data": {
      "image/png": "[encoded data removed]",
      "text/plain": [
       "<Figure size 640x480 with 1 Axes>"
      ]
     },
     "metadata": {},
     "output_type": "display_data"
    }
   ],
   "source": [
    "image = cv2.imread('C:/Users/User/OneDrive/Pictures/heb handwritten/7.jpeg')\n",
    "image = cv2.cvtColor(image, cv2.COLOR_BGR2GRAY)\n",
    "image = remove_shadow(image)\n",
    "blur_gray = cv2.GaussianBlur(image.copy(), (21, 21), 0)\n",
    "thresh = cv2.threshold(blur_gray, 127,255, cv2.THRESH_BINARY_INV | cv2.THRESH_OTSU)[1]\n",
    "kernel = cv2.getStructuringElement(cv2.MORPH_RECT,(200, 1))\n",
    "dilate = cv2.dilate(thresh, kernel, iterations=1)\n",
    "plt.imshow(dilate, cmap='gray');"
   ]
  },
  {
   "cell_type": "code",
   "execution_count": 97,
   "id": "268864c1",
   "metadata": {},
   "outputs": [
    {
     "data": {
      "image/png": "[encoded data removed]",
      "text/plain": [
       "<Figure size 640x480 with 1 Axes>"
      ]
     },
     "metadata": {},
     "output_type": "display_data"
    }
   ],
   "source": [
    "image = remove_shadow(image)\n",
    "plt.imshow(image, cmap='gray');"
   ]
  },
  {
   "cell_type": "code",
   "execution_count": 537,
   "id": "17c45bc7",
   "metadata": {},
   "outputs": [],
   "source": [
    "list_words = detect_words(list_row[0])"
   ]
  },
  {
   "cell_type": "code",
   "execution_count": 538,
   "id": "322af024",
   "metadata": {},
   "outputs": [
    {
     "data": {
      "image/png": "[encoded data removed]",
      "text/plain": [
       "<Figure size 640x480 with 1 Axes>"
      ]
     },
     "metadata": {},
     "output_type": "display_data"
    }
   ],
   "source": [
    "plt.imshow(list_words[0], cmap='gray');"
   ]
  },
  {
   "cell_type": "code",
   "execution_count": 27,
   "id": "fa442671",
   "metadata": {},
   "outputs": [],
   "source": [
    "image = cv2.imread('C:/Users/User/OneDrive/Pictures/heb handwritten/heb handwritten 86.jpg')\n",
    "save_location = \"C:/Users/User/OneDrive/Pictures/heb letters/letterss\"\n",
    "end_image = '.jpg'\n",
    "i = 0\n",
    "list_roi = detect_rows(image)\n",
    "for row in list_roi:\n",
    "    list_words = detect_words(row)\n",
    "    for word in list_words:\n",
    "        list_letters = detect_letters(word,0,0)\n",
    "        for letter in list_letters:\n",
    "            image_path = save_location + str(i) + end_image\n",
    "            cv2.imwrite(image_path, letter)\n",
    "            i += 1"
   ]
  },
  {
   "cell_type": "code",
   "execution_count": 45,
   "id": "95dc09f0",
   "metadata": {},
   "outputs": [],
   "source": [
    "for subdir, dirs, files in os.walk(dir_path):\n",
    "    for file in files:\n",
    "        img_loc = os.path.join(dir_path, file)\n",
    "        img  = cv2.imread(img_loc)\n",
    "        img = cv2.bitwise_not(img)\n",
    "        cv2.imwrite(img_loc, img)"
   ]
  },
  {
   "cell_type": "code",
   "execution_count": 95,
   "id": "d3509d60",
   "metadata": {},
   "outputs": [],
   "source": [
    "dir_path = 'C:/Users/User/Downloads/models for char ocr/heb handwritten'\n",
    "for subdir, dirs, files in os.walk(dir_path):\n",
    "    for file in files:\n",
    "        image  = cv2.imread(os.path.join(subdir, file))\n",
    "        image = cv2.bitwise_not(image)\n",
    "        cv2.imwrite(os.path.join(subdir, file),image)"
   ]
  },
  {
   "cell_type": "code",
   "execution_count": null,
   "id": "279938d0",
   "metadata": {},
   "outputs": [],
   "source": [
    "image = cv2.imread('C:/Users/User/OneDrive/Pictures/heb handwritten/4.jpeg')\n",
    "save_location = \"C:/Users/User/OneDrive/Pictures/heb letters/lettersss\"\n",
    "end_image = '.jpeg'\n",
    "i = 2600\n",
    "list_roi = detect_rows(image)\n",
    "for row in list_roi:\n",
    "    list_words = detect_words(row)\n",
    "    for word in list_words:\n",
    "        list_letters = detect_letters(word,0,0)\n",
    "        for letter in list_letters:\n",
    "            image_path = save_location + str(i) + end_image\n",
    "            cv2.imwrite(image_path, letter)\n",
    "            i += 1"
   ]
  }
 ],
 "metadata": {
  "kernelspec": {
   "display_name": "Python 3 (ipykernel)",
   "language": "python",
   "name": "python3"
  },
  "language_info": {
   "codemirror_mode": {
    "name": "ipython",
    "version": 3
   },
   "file_extension": ".py",
   "mimetype": "text/x-python",
   "name": "python",
   "nbconvert_exporter": "python",
   "pygments_lexer": "ipython3",
   "version": "3.9.13"
  }
 },
 "nbformat": 4,
 "nbformat_minor": 5
}
