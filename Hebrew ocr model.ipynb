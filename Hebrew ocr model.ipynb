{
  "cells": [
    {
      "cell_type": "code",
      "execution_count": null,
      "metadata": {
        "id": "f6VhpuCld_GZ"
      },
      "outputs": [],
      "source": [
        "import numpy as np\n",
        "import tensorflow as tf\n",
        "from tensorflow import keras\n",
        "from tensorflow.python.keras.layers import Input, Dense\n",
        "import matplotlib.pyplot as plt"
      ]
    },
    {
      "cell_type": "code",
      "execution_count": null,
      "metadata": {
        "colab": {
          "base_uri": "https://localhost:8080/"
        },
        "id": "Y2VgEIosX8UX",
        "outputId": "ed735071-b998-4f3d-8251-1a37a9e15e84"
      },
      "outputs": [
        {
          "output_type": "stream",
          "name": "stdout",
          "text": [
            "Mounted at /content/drive\n"
          ]
        }
      ],
      "source": [
        "from google.colab import drive\n",
        "drive.mount('/content/drive')"
      ]
    },
    {
      "cell_type": "code",
      "execution_count": null,
      "metadata": {
        "id": "CigJ-rkJxlSQ"
      },
      "outputs": [],
      "source": [
        "import numpy as np\n",
        "import cv2 as cv2\n",
        "import matplotlib.pyplot as plt\n",
        "import os\n",
        "\n",
        "# Sending all images in the sent folder and its subfolders to pad and resize\n",
        "def pre_process_per_dir(dir_path):\n",
        "    for subdir, dirs, files in os.walk(dir_path):\n",
        "        for file in files:\n",
        "            pre_process_per_image2(os.path.join(subdir, file))\n",
        "\n",
        "# pading image to make it square            \n",
        "def pad_image(img):\n",
        "  img_H,img_W = img.shape[:2]\n",
        "  top = bottom = left = right = 0\n",
        "  if img_H == img_W:\n",
        "    return img\n",
        "  if img_H < img_W:\n",
        "    top = bottom = (img_W-img_H)//2\n",
        "  else:\n",
        "    left = right = (img_H-img_W)//2\n",
        "  return cv2.copyMakeBorder(img,top,bottom,left,right,cv2.BORDER_CONSTANT,value=[0, 0, 0])\n",
        "\n",
        "# pad and resize\n",
        "def pre_process_per_image1(img_path):\n",
        "  img = cv2.imread(img_path)\n",
        "  img = cv2.cvtColor(img, cv2.COLOR_BGR2GRAY)\n",
        "  img = pad_image(img)\n",
        "  if img.shape[0] > 64:\n",
        "    img = cv2.resize(img,(64,64))\n",
        "  img = cv2.resize(img,(40,40))\n",
        "  cv2.imwrite(img_path,img)\n",
        "\n",
        "def resize(image, width=None, height=None):\n",
        "    dim = None\n",
        "    (h, w) = image.shape[:2]\n",
        "    if width is None and height is None:\n",
        "        return image\n",
        "    if width is None:\n",
        "        r = height / float(h)\n",
        "        dim = (int(w * r), height)\n",
        "    else:\n",
        "        r = width / float(w)\n",
        "        dim = (width, int(h * r))\n",
        "    resized = cv2.resize(image, dim,interpolation =  cv2.INTER_AREA)\n",
        "    return resized\n",
        "\n",
        "def pre_process_per_image2(img_path):\n",
        "  img = cv2.imread(img_path)\n",
        "  img = cv2.cvtColor(img, cv2.COLOR_BGR2GRAY)\n",
        "  (tH, tW) = img.shape\n",
        "  if tW > tH:\n",
        "    img = resize(img, width=40)\n",
        "  else:\n",
        "    img = resize(img, height=40)\n",
        "  (tH, tW) = img.shape \n",
        "  dX = int(max(0, 40 - tW) / 2.0)\n",
        "  dY = int(max(0, 40 - tH) / 2.0)\n",
        "  padded = cv2.copyMakeBorder(img, top=dY, bottom=dY,left=dX,\n",
        "                              right=dX, borderType=cv2.BORDER_CONSTANT,value=(0, 0, 0))\n",
        "  if padded.shape[0] + padded.shape[1] > 128:\n",
        "    padded = cv2.resize(padded, (64, 64),interpolation = cv2.INTER_AREA)\n",
        "  padded = cv2.resize(padded, (40, 40),interpolation =  cv2.INTER_AREA)\n",
        "  cv2.imwrite(img_path,padded)"
      ]
    },
    {
      "cell_type": "code",
      "execution_count": null,
      "metadata": {
        "id": "09WSUYbmD83N"
      },
      "outputs": [],
      "source": [
        "import os\n",
        "import zipfile\n",
        "#unzip heb letter zip file to tmp directory\n",
        "local_zip = '/content/drive/MyDrive/dataset_for_heb_letters 2.zip'\n",
        "zip_ref = zipfile.ZipFile(local_zip, 'r')\n",
        "zip_ref.extractall('/tmp')\n",
        "zip_ref.close()\n",
        "base_dir = '/tmp/dataset_for_heb_letters'\n",
        "train_dir = os.path.join(base_dir, 'train')\n",
        "validation_dir = os.path.join(base_dir, 'val')"
      ]
    },
    {
      "cell_type": "code",
      "execution_count": null,
      "metadata": {
        "id": "7v9atAWymAK5"
      },
      "outputs": [],
      "source": [
        "for i in [train_dir,validation_dir]:\n",
        "  pre_process_per_dir(i)"
      ]
    },
    {
      "cell_type": "code",
      "execution_count": null,
      "metadata": {
        "id": "_4iRge_4O8EI"
      },
      "outputs": [],
      "source": [
        "import random\n",
        "def add_noise(img):\n",
        "    '''Add random noise to an image'''\n",
        "    VARIABILITY = random.uniform(6.0, 20.0)\n",
        "    deviation = VARIABILITY*random.random()\n",
        "    noise = np.random.normal(0, deviation, img.shape)\n",
        "    if random.random() > 0.5:\n",
        "      img += noise\n",
        "    else:\n",
        "      img -= noise\n",
        "    np.clip(img, 0., 255.)\n",
        "    return img"
      ]
    },
    {
      "cell_type": "code",
      "execution_count": null,
      "metadata": {
        "colab": {
          "base_uri": "https://localhost:8080/",
          "height": 1000
        },
        "id": "43xzTk9AEdLT",
        "outputId": "56cd8648-0cca-46c1-9240-bdf5c5de3c95"
      },
      "outputs": [
        {
          "output_type": "stream",
          "name": "stdout",
          "text": [
            "Found 6898 images belonging to 27 classes.\n",
            "Found 861 images belonging to 27 classes.\n"
          ]
        },
        {
          "output_type": "display_data",
          "data": {
            "text/plain": [
              "<Figure size 1152x1152 with 16 Axes>"
            ],
            "image/png": "[encoded data removed]"
          },
          "metadata": {
            "needs_background": "light"
          }
        },
        {
          "output_type": "stream",
          "name": "stdout",
          "text": [
            "Found 6898 images belonging to 27 classes.\n",
            "(40, 40, 1)\n",
            "(40, 40, 1)\n"
          ]
        }
      ],
      "source": [
        "from tensorflow.keras.preprocessing.image import ImageDataGenerator\n",
        "from matplotlib import pyplot as plt\n",
        "\n",
        "train_datagen = ImageDataGenerator(rescale=1./255, width_shift_range=0.1, \n",
        "                                   height_shift_range=0.1, zoom_range=0.1,\n",
        "                                   preprocessing_function = add_noise, shear_range=0.05,\n",
        "                                   cval=0.1 ,brightness_range=[0.6,1.2])\n",
        "val_datagen = ImageDataGenerator(rescale=1./255, width_shift_range=0.1, \n",
        "                                   height_shift_range=0.1, zoom_range=0.1,\n",
        "                                   preprocessing_function = add_noise, shear_range=0.05,\n",
        "                                   cval=0.1 ,brightness_range=[0.6,1.2])\n",
        "\n",
        "# Flow training images in batches of 32 using train_datagen generator\n",
        "train_generator = train_datagen.flow_from_directory(\n",
        "        train_dir,  # This is the source directory for training images\n",
        "        target_size=(40,40),\n",
        "        batch_size=1,\n",
        "        color_mode = 'grayscale',\n",
        "        class_mode='categorical'\n",
        "        )\n",
        "\n",
        "# Flow validation images in batches of 32 using val_datagen generator\n",
        "validation_generator = val_datagen.flow_from_directory(\n",
        "        validation_dir,\n",
        "        target_size=(40,40),\n",
        "        color_mode = 'grayscale',\n",
        "        batch_size=64,\n",
        "        class_mode='categorical'\n",
        "        )\n",
        "\n",
        "#Plots our figures\n",
        "plt.figure(figsize=(16, 16))\n",
        "for i in range(1,17):\n",
        "  plt.subplot(4, 4, i)\n",
        "  img= train_generator.next()\n",
        "  plt.imshow(np.squeeze(img[0]), cmap= 'gray')\n",
        "plt.show()\n",
        "\n",
        "train_generator = train_datagen.flow_from_directory(\n",
        "        train_dir,  # This is the source directory for training images\n",
        "        target_size=(40,40),\n",
        "        batch_size=64,\n",
        "        color_mode = 'grayscale',\n",
        "        class_mode='categorical'\n",
        "        )\n",
        "\n",
        "print(train_generator.image_shape)\n",
        "print(validation_generator.image_shape)"
      ]
    },
    {
      "cell_type": "code",
      "execution_count": null,
      "metadata": {
        "id": "tKoEZzmLKaOP"
      },
      "outputs": [],
      "source": [
        "import keras\n",
        "import sys\n",
        "from keras.models import Model\n",
        "from tensorflow.keras.optimizers import Adam,SGD,Adamax\n",
        "from keras.models import Sequential\n",
        "from keras.layers import Dense, Dropout, Flatten\n",
        "from keras.layers import Conv2D, MaxPooling2D,GlobalAveragePooling2D"
      ]
    },
    {
      "cell_type": "code",
      "execution_count": null,
      "metadata": {
        "colab": {
          "base_uri": "https://localhost:8080/"
        },
        "id": "mqBIyAuy738w",
        "outputId": "838fc50e-930d-49ca-ea27-19c581e922cf"
      },
      "outputs": [
        {
          "output_type": "stream",
          "name": "stdout",
          "text": [
            "Model: \"sequential_3\"\n",
            "_________________________________________________________________\n",
            " Layer (type)                Output Shape              Param #   \n",
            "=================================================================\n",
            " conv2d_18 (Conv2D)          (None, 40, 40, 64)        640       \n",
            "                                                                 \n",
            " conv2d_19 (Conv2D)          (None, 40, 40, 32)        18464     \n",
            "                                                                 \n",
            " max_pooling2d_9 (MaxPooling  (None, 20, 20, 32)       0         \n",
            " 2D)                                                             \n",
            "                                                                 \n",
            " conv2d_20 (Conv2D)          (None, 20, 20, 64)        18496     \n",
            "                                                                 \n",
            " conv2d_21 (Conv2D)          (None, 20, 20, 32)        18464     \n",
            "                                                                 \n",
            " max_pooling2d_10 (MaxPoolin  (None, 10, 10, 32)       0         \n",
            " g2D)                                                            \n",
            "                                                                 \n",
            " conv2d_22 (Conv2D)          (None, 10, 10, 64)        18496     \n",
            "                                                                 \n",
            " conv2d_23 (Conv2D)          (None, 8, 8, 32)          18464     \n",
            "                                                                 \n",
            " max_pooling2d_11 (MaxPoolin  (None, 4, 4, 32)         0         \n",
            " g2D)                                                            \n",
            "                                                                 \n",
            " flatten_3 (Flatten)         (None, 512)               0         \n",
            "                                                                 \n",
            " dropout_4 (Dropout)         (None, 512)               0         \n",
            "                                                                 \n",
            " dense_6 (Dense)             (None, 128)               65664     \n",
            "                                                                 \n",
            " dropout_5 (Dropout)         (None, 128)               0         \n",
            "                                                                 \n",
            " dense_7 (Dense)             (None, 27)                3483      \n",
            "                                                                 \n",
            "=================================================================\n",
            "Total params: 162,171\n",
            "Trainable params: 162,171\n",
            "Non-trainable params: 0\n",
            "_________________________________________________________________\n"
          ]
        }
      ],
      "source": [
        "\n",
        "model = Sequential()\n",
        "model.add(Conv2D(64, (3, 3), padding='same', input_shape=(40,40,1), activation = 'relu'))\n",
        "model.add(Conv2D(32, (3, 3), padding='same', activation = 'relu'))\n",
        "model.add(MaxPooling2D(pool_size=(2, 2)))\n",
        "model.add(Conv2D(64, (3, 3), padding='same', activation = 'relu'))\n",
        "model.add(Conv2D(32, (3, 3), padding='same', activation = 'relu'))\n",
        "model.add(MaxPooling2D(pool_size=(2, 2)))\n",
        "model.add(Conv2D(64, (3, 3), padding='same', activation = 'relu'))\n",
        "model.add(Conv2D(32, (3, 3), activation = 'relu'))\n",
        "model.add(MaxPooling2D(pool_size=(2, 2)))\n",
        "\n",
        "model.add(Flatten())\n",
        "model.add(Dropout(0.6))\n",
        "model.add(Dense(128, activation ='relu'))\n",
        "model.add(Dropout(0.1))\n",
        "model.add(Dense(27, activation ='softmax'))\n",
        "\n",
        "model.summary()"
      ]
    },
    {
      "cell_type": "code",
      "execution_count": null,
      "metadata": {
        "id": "g-f5cAjGM-JA"
      },
      "outputs": [],
      "source": [
        "opt = Adam(learning_rate=0.00009)\n",
        "model.compile(loss=\"categorical_crossentropy\", optimizer=opt, metrics=[\"acc\"])"
      ]
    },
    {
      "cell_type": "code",
      "execution_count": null,
      "metadata": {
        "id": "pKY0MQAR2BKH"
      },
      "outputs": [],
      "source": [
        "from keras.callbacks import ModelCheckpoint\n",
        "mc_acc = ModelCheckpoint('best_model_acc.h5', monitor='val_acc',initial_value_threshold =0.955, \n",
        "                     mode='max', verbose=1, save_best_only=True,)\n",
        "mc_loss = ModelCheckpoint('best_model_loss.h5', monitor='val_loss',initial_value_threshold =0.159, \n",
        "                     mode='min', verbose=1, save_best_only=True,)"
      ]
    },
    {
      "cell_type": "code",
      "execution_count": null,
      "metadata": {
        "id": "aaW-FfOxJYvZ"
      },
      "outputs": [],
      "source": [
        "model.load_weights('best_model 8.h5')"
      ]
    },
    {
      "cell_type": "code",
      "execution_count": null,
      "metadata": {
        "colab": {
          "base_uri": "https://localhost:8080/"
        },
        "id": "qo_FCyE5gT0L",
        "outputId": "ca542c5d-ab4b-43d3-d20b-9cab14de8de3"
      },
      "outputs": [
        {
          "output_type": "stream",
          "name": "stdout",
          "text": [
            "Epoch 1/55\n",
            "\n",
            "Epoch 1: val_acc did not improve from 0.95500\n",
            "\n",
            "Epoch 1: val_loss did not improve from 0.15900\n",
            "108/108 - 5s - loss: 0.1171 - acc: 0.9575 - val_loss: 0.2061 - val_acc: 0.9373 - 5s/epoch - 49ms/step\n",
            "Epoch 2/55\n",
            "\n",
            "Epoch 2: val_acc did not improve from 0.95500\n",
            "\n",
            "Epoch 2: val_loss did not improve from 0.15900\n",
            "108/108 - 5s - loss: 0.1139 - acc: 0.9582 - val_loss: 0.1855 - val_acc: 0.9384 - 5s/epoch - 48ms/step\n",
            "Epoch 3/55\n",
            "\n",
            "Epoch 3: val_acc did not improve from 0.95500\n",
            "\n",
            "Epoch 3: val_loss did not improve from 0.15900\n",
            "108/108 - 5s - loss: 0.1111 - acc: 0.9585 - val_loss: 0.1971 - val_acc: 0.9384 - 5s/epoch - 48ms/step\n",
            "Epoch 4/55\n",
            "\n",
            "Epoch 4: val_acc did not improve from 0.95500\n",
            "\n",
            "Epoch 4: val_loss did not improve from 0.15900\n",
            "108/108 - 5s - loss: 0.1073 - acc: 0.9603 - val_loss: 0.1945 - val_acc: 0.9408 - 5s/epoch - 48ms/step\n",
            "Epoch 5/55\n",
            "\n",
            "Epoch 5: val_acc did not improve from 0.95500\n",
            "\n",
            "Epoch 5: val_loss did not improve from 0.15900\n",
            "108/108 - 5s - loss: 0.1105 - acc: 0.9580 - val_loss: 0.1918 - val_acc: 0.9477 - 5s/epoch - 48ms/step\n",
            "Epoch 6/55\n",
            "\n",
            "Epoch 6: val_acc did not improve from 0.95500\n",
            "\n",
            "Epoch 6: val_loss did not improve from 0.15900\n",
            "108/108 - 5s - loss: 0.1014 - acc: 0.9649 - val_loss: 0.1889 - val_acc: 0.9466 - 5s/epoch - 48ms/step\n",
            "Epoch 7/55\n",
            "\n",
            "Epoch 7: val_acc did not improve from 0.95500\n",
            "\n",
            "Epoch 7: val_loss did not improve from 0.15900\n",
            "108/108 - 5s - loss: 0.1002 - acc: 0.9629 - val_loss: 0.1960 - val_acc: 0.9419 - 5s/epoch - 49ms/step\n",
            "Epoch 8/55\n",
            "\n",
            "Epoch 8: val_acc did not improve from 0.95500\n",
            "\n",
            "Epoch 8: val_loss did not improve from 0.15900\n",
            "108/108 - 5s - loss: 0.0955 - acc: 0.9656 - val_loss: 0.1963 - val_acc: 0.9419 - 5s/epoch - 49ms/step\n",
            "Epoch 9/55\n",
            "\n",
            "Epoch 9: val_acc did not improve from 0.95500\n",
            "\n",
            "Epoch 9: val_loss did not improve from 0.15900\n",
            "108/108 - 5s - loss: 0.0927 - acc: 0.9664 - val_loss: 0.1962 - val_acc: 0.9443 - 5s/epoch - 48ms/step\n",
            "Epoch 10/55\n",
            "\n",
            "Epoch 10: val_acc did not improve from 0.95500\n",
            "\n",
            "Epoch 10: val_loss did not improve from 0.15900\n",
            "108/108 - 5s - loss: 0.0992 - acc: 0.9645 - val_loss: 0.1844 - val_acc: 0.9466 - 5s/epoch - 47ms/step\n",
            "Epoch 11/55\n",
            "\n",
            "Epoch 11: val_acc did not improve from 0.95500\n",
            "\n",
            "Epoch 11: val_loss did not improve from 0.15900\n",
            "108/108 - 5s - loss: 0.0920 - acc: 0.9659 - val_loss: 0.1914 - val_acc: 0.9466 - 5s/epoch - 47ms/step\n",
            "Epoch 12/55\n",
            "\n",
            "Epoch 12: val_acc did not improve from 0.95500\n",
            "\n",
            "Epoch 12: val_loss did not improve from 0.15900\n",
            "108/108 - 5s - loss: 0.0920 - acc: 0.9674 - val_loss: 0.1892 - val_acc: 0.9419 - 5s/epoch - 48ms/step\n",
            "Epoch 13/55\n",
            "\n",
            "Epoch 13: val_acc did not improve from 0.95500\n",
            "\n",
            "Epoch 13: val_loss did not improve from 0.15900\n",
            "108/108 - 5s - loss: 0.0935 - acc: 0.9648 - val_loss: 0.1921 - val_acc: 0.9431 - 5s/epoch - 48ms/step\n",
            "Epoch 14/55\n",
            "\n",
            "Epoch 14: val_acc did not improve from 0.95500\n",
            "\n",
            "Epoch 14: val_loss did not improve from 0.15900\n",
            "108/108 - 5s - loss: 0.0903 - acc: 0.9671 - val_loss: 0.1960 - val_acc: 0.9419 - 5s/epoch - 49ms/step\n",
            "Epoch 15/55\n",
            "\n",
            "Epoch 15: val_acc did not improve from 0.95500\n",
            "\n",
            "Epoch 15: val_loss did not improve from 0.15900\n",
            "108/108 - 5s - loss: 0.0847 - acc: 0.9687 - val_loss: 0.1902 - val_acc: 0.9466 - 5s/epoch - 48ms/step\n",
            "Epoch 16/55\n",
            "\n",
            "Epoch 16: val_acc did not improve from 0.95500\n",
            "\n",
            "Epoch 16: val_loss did not improve from 0.15900\n",
            "108/108 - 5s - loss: 0.0893 - acc: 0.9665 - val_loss: 0.1811 - val_acc: 0.9477 - 5s/epoch - 47ms/step\n",
            "Epoch 17/55\n",
            "\n",
            "Epoch 17: val_acc did not improve from 0.95500\n",
            "\n",
            "Epoch 17: val_loss did not improve from 0.15900\n",
            "108/108 - 5s - loss: 0.0873 - acc: 0.9665 - val_loss: 0.1876 - val_acc: 0.9443 - 5s/epoch - 47ms/step\n",
            "Epoch 18/55\n",
            "\n",
            "Epoch 18: val_acc did not improve from 0.95500\n",
            "\n",
            "Epoch 18: val_loss did not improve from 0.15900\n",
            "108/108 - 5s - loss: 0.0897 - acc: 0.9640 - val_loss: 0.1866 - val_acc: 0.9454 - 5s/epoch - 47ms/step\n",
            "Epoch 19/55\n",
            "\n",
            "Epoch 19: val_acc did not improve from 0.95500\n",
            "\n",
            "Epoch 19: val_loss did not improve from 0.15900\n",
            "108/108 - 5s - loss: 0.0882 - acc: 0.9665 - val_loss: 0.1973 - val_acc: 0.9466 - 5s/epoch - 47ms/step\n",
            "Epoch 20/55\n",
            "\n",
            "Epoch 20: val_acc did not improve from 0.95500\n",
            "\n",
            "Epoch 20: val_loss did not improve from 0.15900\n",
            "108/108 - 5s - loss: 0.0907 - acc: 0.9658 - val_loss: 0.1899 - val_acc: 0.9477 - 5s/epoch - 48ms/step\n",
            "Epoch 21/55\n",
            "\n",
            "Epoch 21: val_acc did not improve from 0.95500\n",
            "\n",
            "Epoch 21: val_loss did not improve from 0.15900\n",
            "108/108 - 5s - loss: 0.0861 - acc: 0.9667 - val_loss: 0.1902 - val_acc: 0.9489 - 5s/epoch - 48ms/step\n",
            "Epoch 22/55\n",
            "\n",
            "Epoch 22: val_acc did not improve from 0.95500\n",
            "\n",
            "Epoch 22: val_loss did not improve from 0.15900\n",
            "108/108 - 5s - loss: 0.0753 - acc: 0.9738 - val_loss: 0.1880 - val_acc: 0.9466 - 5s/epoch - 48ms/step\n",
            "Epoch 23/55\n",
            "\n",
            "Epoch 23: val_acc did not improve from 0.95500\n",
            "\n",
            "Epoch 23: val_loss did not improve from 0.15900\n",
            "108/108 - 5s - loss: 0.0825 - acc: 0.9704 - val_loss: 0.1859 - val_acc: 0.9477 - 5s/epoch - 48ms/step\n",
            "Epoch 24/55\n",
            "\n",
            "Epoch 24: val_acc did not improve from 0.95500\n",
            "\n",
            "Epoch 24: val_loss did not improve from 0.15900\n",
            "108/108 - 5s - loss: 0.0867 - acc: 0.9674 - val_loss: 0.1892 - val_acc: 0.9477 - 5s/epoch - 48ms/step\n",
            "Epoch 25/55\n",
            "\n",
            "Epoch 25: val_acc did not improve from 0.95500\n",
            "\n",
            "Epoch 25: val_loss did not improve from 0.15900\n",
            "108/108 - 5s - loss: 0.0844 - acc: 0.9684 - val_loss: 0.1945 - val_acc: 0.9454 - 5s/epoch - 49ms/step\n",
            "Epoch 26/55\n",
            "\n",
            "Epoch 26: val_acc did not improve from 0.95500\n",
            "\n",
            "Epoch 26: val_loss did not improve from 0.15900\n",
            "108/108 - 6s - loss: 0.0907 - acc: 0.9652 - val_loss: 0.1919 - val_acc: 0.9512 - 6s/epoch - 56ms/step\n",
            "Epoch 27/55\n",
            "\n",
            "Epoch 27: val_acc did not improve from 0.95500\n",
            "\n",
            "Epoch 27: val_loss did not improve from 0.15900\n",
            "108/108 - 5s - loss: 0.0855 - acc: 0.9684 - val_loss: 0.1871 - val_acc: 0.9443 - 5s/epoch - 48ms/step\n",
            "Epoch 28/55\n",
            "\n",
            "Epoch 28: val_acc did not improve from 0.95500\n",
            "\n",
            "Epoch 28: val_loss did not improve from 0.15900\n",
            "108/108 - 5s - loss: 0.0829 - acc: 0.9671 - val_loss: 0.1898 - val_acc: 0.9431 - 5s/epoch - 47ms/step\n",
            "Epoch 29/55\n",
            "\n",
            "Epoch 29: val_acc did not improve from 0.95500\n",
            "\n",
            "Epoch 29: val_loss did not improve from 0.15900\n",
            "108/108 - 5s - loss: 0.0802 - acc: 0.9717 - val_loss: 0.1883 - val_acc: 0.9466 - 5s/epoch - 48ms/step\n",
            "Epoch 30/55\n",
            "\n",
            "Epoch 30: val_acc did not improve from 0.95500\n",
            "\n",
            "Epoch 30: val_loss did not improve from 0.15900\n",
            "108/108 - 5s - loss: 0.0746 - acc: 0.9709 - val_loss: 0.1911 - val_acc: 0.9477 - 5s/epoch - 48ms/step\n",
            "Epoch 31/55\n",
            "\n",
            "Epoch 31: val_acc did not improve from 0.95500\n",
            "\n",
            "Epoch 31: val_loss did not improve from 0.15900\n",
            "108/108 - 5s - loss: 0.0826 - acc: 0.9694 - val_loss: 0.1959 - val_acc: 0.9408 - 5s/epoch - 48ms/step\n",
            "Epoch 32/55\n",
            "\n",
            "Epoch 32: val_acc did not improve from 0.95500\n",
            "\n",
            "Epoch 32: val_loss did not improve from 0.15900\n",
            "108/108 - 5s - loss: 0.0829 - acc: 0.9688 - val_loss: 0.2002 - val_acc: 0.9454 - 5s/epoch - 48ms/step\n",
            "Epoch 33/55\n",
            "\n",
            "Epoch 33: val_acc did not improve from 0.95500\n",
            "\n",
            "Epoch 33: val_loss did not improve from 0.15900\n",
            "108/108 - 5s - loss: 0.0843 - acc: 0.9688 - val_loss: 0.1887 - val_acc: 0.9443 - 5s/epoch - 49ms/step\n",
            "Epoch 34/55\n",
            "\n",
            "Epoch 34: val_acc did not improve from 0.95500\n",
            "\n",
            "Epoch 34: val_loss did not improve from 0.15900\n",
            "108/108 - 5s - loss: 0.0735 - acc: 0.9733 - val_loss: 0.1886 - val_acc: 0.9535 - 5s/epoch - 49ms/step\n",
            "Epoch 35/55\n",
            "\n",
            "Epoch 35: val_acc did not improve from 0.95500\n",
            "\n",
            "Epoch 35: val_loss did not improve from 0.15900\n",
            "108/108 - 5s - loss: 0.0698 - acc: 0.9741 - val_loss: 0.1970 - val_acc: 0.9501 - 5s/epoch - 48ms/step\n",
            "Epoch 36/55\n",
            "\n",
            "Epoch 36: val_acc did not improve from 0.95500\n",
            "\n",
            "Epoch 36: val_loss did not improve from 0.15900\n",
            "108/108 - 5s - loss: 0.0798 - acc: 0.9700 - val_loss: 0.1917 - val_acc: 0.9454 - 5s/epoch - 49ms/step\n",
            "Epoch 37/55\n",
            "\n",
            "Epoch 37: val_acc did not improve from 0.95500\n",
            "\n",
            "Epoch 37: val_loss did not improve from 0.15900\n",
            "108/108 - 5s - loss: 0.0769 - acc: 0.9710 - val_loss: 0.1900 - val_acc: 0.9419 - 5s/epoch - 48ms/step\n",
            "Epoch 38/55\n",
            "\n",
            "Epoch 38: val_acc did not improve from 0.95500\n",
            "\n",
            "Epoch 38: val_loss did not improve from 0.15900\n",
            "108/108 - 5s - loss: 0.0780 - acc: 0.9707 - val_loss: 0.1854 - val_acc: 0.9466 - 5s/epoch - 47ms/step\n",
            "Epoch 39/55\n",
            "\n",
            "Epoch 39: val_acc did not improve from 0.95500\n",
            "\n",
            "Epoch 39: val_loss did not improve from 0.15900\n",
            "108/108 - 5s - loss: 0.0802 - acc: 0.9691 - val_loss: 0.1912 - val_acc: 0.9466 - 5s/epoch - 47ms/step\n",
            "Epoch 40/55\n",
            "\n",
            "Epoch 40: val_acc did not improve from 0.95500\n",
            "\n",
            "Epoch 40: val_loss did not improve from 0.15900\n",
            "108/108 - 5s - loss: 0.0754 - acc: 0.9707 - val_loss: 0.1998 - val_acc: 0.9466 - 5s/epoch - 47ms/step\n",
            "Epoch 41/55\n",
            "\n",
            "Epoch 41: val_acc did not improve from 0.95500\n",
            "\n",
            "Epoch 41: val_loss did not improve from 0.15900\n",
            "108/108 - 5s - loss: 0.0697 - acc: 0.9755 - val_loss: 0.1908 - val_acc: 0.9489 - 5s/epoch - 47ms/step\n",
            "Epoch 42/55\n",
            "\n",
            "Epoch 42: val_acc did not improve from 0.95500\n",
            "\n",
            "Epoch 42: val_loss did not improve from 0.15900\n",
            "108/108 - 5s - loss: 0.0753 - acc: 0.9714 - val_loss: 0.1927 - val_acc: 0.9477 - 5s/epoch - 46ms/step\n",
            "Epoch 43/55\n",
            "\n",
            "Epoch 43: val_acc did not improve from 0.95500\n",
            "\n",
            "Epoch 43: val_loss did not improve from 0.15900\n",
            "108/108 - 5s - loss: 0.0734 - acc: 0.9727 - val_loss: 0.1921 - val_acc: 0.9501 - 5s/epoch - 47ms/step\n",
            "Epoch 44/55\n",
            "\n",
            "Epoch 44: val_acc did not improve from 0.95500\n",
            "\n",
            "Epoch 44: val_loss did not improve from 0.15900\n",
            "108/108 - 5s - loss: 0.0748 - acc: 0.9732 - val_loss: 0.1942 - val_acc: 0.9466 - 5s/epoch - 46ms/step\n",
            "Epoch 45/55\n",
            "\n",
            "Epoch 45: val_acc did not improve from 0.95500\n",
            "\n",
            "Epoch 45: val_loss did not improve from 0.15900\n",
            "108/108 - 5s - loss: 0.0695 - acc: 0.9743 - val_loss: 0.1963 - val_acc: 0.9501 - 5s/epoch - 47ms/step\n",
            "Epoch 46/55\n",
            "\n",
            "Epoch 46: val_acc did not improve from 0.95500\n",
            "\n",
            "Epoch 46: val_loss did not improve from 0.15900\n",
            "108/108 - 5s - loss: 0.0726 - acc: 0.9717 - val_loss: 0.1900 - val_acc: 0.9489 - 5s/epoch - 48ms/step\n",
            "Epoch 47/55\n",
            "\n",
            "Epoch 47: val_acc did not improve from 0.95500\n",
            "\n",
            "Epoch 47: val_loss did not improve from 0.15900\n",
            "108/108 - 5s - loss: 0.0745 - acc: 0.9722 - val_loss: 0.1850 - val_acc: 0.9489 - 5s/epoch - 49ms/step\n",
            "Epoch 48/55\n",
            "\n",
            "Epoch 48: val_acc did not improve from 0.95500\n",
            "\n",
            "Epoch 48: val_loss did not improve from 0.15900\n",
            "108/108 - 5s - loss: 0.0702 - acc: 0.9746 - val_loss: 0.1918 - val_acc: 0.9512 - 5s/epoch - 48ms/step\n",
            "Epoch 49/55\n",
            "\n",
            "Epoch 49: val_acc did not improve from 0.95500\n",
            "\n",
            "Epoch 49: val_loss did not improve from 0.15900\n",
            "108/108 - 5s - loss: 0.0687 - acc: 0.9736 - val_loss: 0.2068 - val_acc: 0.9443 - 5s/epoch - 47ms/step\n",
            "Epoch 50/55\n",
            "\n",
            "Epoch 50: val_acc did not improve from 0.95500\n",
            "\n",
            "Epoch 50: val_loss did not improve from 0.15900\n",
            "108/108 - 5s - loss: 0.0723 - acc: 0.9726 - val_loss: 0.1984 - val_acc: 0.9489 - 5s/epoch - 51ms/step\n",
            "Epoch 51/55\n",
            "\n",
            "Epoch 51: val_acc did not improve from 0.95500\n",
            "\n",
            "Epoch 51: val_loss did not improve from 0.15900\n",
            "108/108 - 5s - loss: 0.0700 - acc: 0.9725 - val_loss: 0.1875 - val_acc: 0.9477 - 5s/epoch - 49ms/step\n",
            "Epoch 52/55\n",
            "\n",
            "Epoch 52: val_acc did not improve from 0.95500\n",
            "\n",
            "Epoch 52: val_loss did not improve from 0.15900\n",
            "108/108 - 5s - loss: 0.0725 - acc: 0.9729 - val_loss: 0.1997 - val_acc: 0.9489 - 5s/epoch - 48ms/step\n",
            "Epoch 53/55\n",
            "\n",
            "Epoch 53: val_acc did not improve from 0.95500\n",
            "\n",
            "Epoch 53: val_loss did not improve from 0.15900\n",
            "108/108 - 5s - loss: 0.0668 - acc: 0.9752 - val_loss: 0.1988 - val_acc: 0.9489 - 5s/epoch - 48ms/step\n",
            "Epoch 54/55\n",
            "\n",
            "Epoch 54: val_acc did not improve from 0.95500\n",
            "\n",
            "Epoch 54: val_loss did not improve from 0.15900\n",
            "108/108 - 5s - loss: 0.0752 - acc: 0.9704 - val_loss: 0.1913 - val_acc: 0.9524 - 5s/epoch - 47ms/step\n",
            "Epoch 55/55\n",
            "\n",
            "Epoch 55: val_acc did not improve from 0.95500\n",
            "\n",
            "Epoch 55: val_loss did not improve from 0.15900\n",
            "108/108 - 5s - loss: 0.0692 - acc: 0.9733 - val_loss: 0.2034 - val_acc: 0.9489 - 5s/epoch - 48ms/step\n"
          ]
        }
      ],
      "source": [
        "history = model.fit(\n",
        "      train_generator,\n",
        "      epochs= 55,\n",
        "      validation_data= validation_generator,\n",
        "      verbose=2,\n",
        "      callbacks = [mc_acc, mc_loss],\n",
        "      shuffle=True,\n",
        "      )"
      ]
    },
    {
      "cell_type": "code",
      "execution_count": null,
      "metadata": {
        "colab": {
          "base_uri": "https://localhost:8080/"
        },
        "id": "EFBtU8cOnz-f",
        "outputId": "4b80aa9c-e9b8-4ed2-828f-b400f8e78a08"
      },
      "outputs": [
        {
          "output_type": "stream",
          "name": "stdout",
          "text": [
            "evaluate model 1\n",
            "14/14 [==============================] - 1s 60ms/step - loss: 0.2886 - acc: 0.9152\n",
            "evaluate model 2\n",
            "14/14 [==============================] - 1s 58ms/step - loss: 0.2628 - acc: 0.9141\n",
            "evaluate model 3\n",
            "14/14 [==============================] - 1s 57ms/step - loss: 0.2916 - acc: 0.9129\n",
            "evaluate model 4\n",
            "14/14 [==============================] - 1s 60ms/step - loss: 0.2720 - acc: 0.9210\n",
            "evaluate model 5\n",
            "14/14 [==============================] - 1s 58ms/step - loss: 0.3609 - acc: 0.8920\n",
            "evaluate model 6\n",
            "14/14 [==============================] - 1s 59ms/step - loss: 0.2664 - acc: 0.9233\n",
            "evaluate model 7\n",
            "14/14 [==============================] - 1s 57ms/step - loss: 0.2650 - acc: 0.9152\n",
            "evaluate model 8\n",
            "14/14 [==============================] - 1s 57ms/step - loss: 0.2683 - acc: 0.9292\n",
            "evaluate model 9\n",
            "14/14 [==============================] - 1s 57ms/step - loss: 0.3379 - acc: 0.9094\n"
          ]
        }
      ],
      "source": [
        "base_root = 'best_model '\n",
        "end_file = '.h5'\n",
        "for i in range(1,10):\n",
        "  model_name = base_root + str(i) + end_file\n",
        "  model.load_weights(model_name)\n",
        "  print(\"evaluate model \" + str(i))\n",
        "  model.evaluate(validation_generator)"
      ]
    },
    {
      "cell_type": "code",
      "execution_count": null,
      "metadata": {
        "colab": {
          "base_uri": "https://localhost:8080/"
        },
        "id": "ugfTBH15u8vm",
        "outputId": "3926a658-5277-4987-fd1c-856c4e695907"
      },
      "outputs": [
        {
          "name": "stdout",
          "output_type": "stream",
          "text": [
            "13/13 [==============================] - 0s 21ms/step - loss: 0.1790 - acc: 0.9532\n"
          ]
        },
        {
          "data": {
            "text/plain": [
              "[0.1789545714855194, 0.953201949596405]"
            ]
          },
          "execution_count": 126,
          "metadata": {},
          "output_type": "execute_result"
        }
      ],
      "source": [
        "model.load_weights('best_model.h5')\n",
        "model.evaluate(validation_generator)"
      ]
    },
    {
      "cell_type": "code",
      "source": [
        "def load_model():\n",
        "    model = Sequential()\n",
        "    model.add(Conv2D(64, (3, 3), padding='same', input_shape=(40,40,1), activation = 'relu'))\n",
        "    model.add(Conv2D(32, (3, 3), padding='same', activation = 'relu'))\n",
        "    model.add(MaxPooling2D(pool_size=(2, 2)))\n",
        "    model.add(Conv2D(64, (3, 3), padding='same', activation = 'relu'))\n",
        "    model.add(Conv2D(32, (3, 3), padding='same', activation = 'relu'))\n",
        "    model.add(MaxPooling2D(pool_size=(2, 2)))\n",
        "    model.add(Conv2D(64, (3, 3), padding='same', activation = 'relu'))\n",
        "    model.add(Conv2D(32, (3, 3), activation = 'relu'))\n",
        "    model.add(MaxPooling2D(pool_size=(2, 2)))\n",
        "\n",
        "    model.add(Flatten())\n",
        "    model.add(Dense(128, activation ='relu'))\n",
        "    model.add(Dense(27, activation ='softmax'))\n",
        "    model.compile(loss=\"categorical_crossentropy\", optimizer='adam', metrics=[\"acc\"])\n",
        "\n",
        "    return model\n",
        "model1 = load_model()\n",
        "model2 = load_model()\n",
        "model3 = load_model()\n",
        "model4 = load_model()\n",
        "model5 = load_model()\n",
        "\n",
        "model1.load_weights('/content/best_model 1.h5')\n",
        "model2.load_weights('/content/best_model 2.h5')\n",
        "model3.load_weights('/content/best_model 3.h5')\n",
        "model4.load_weights('/content/best_model 4.h5')\n",
        "model5.load_weights('/content/best_model 5.h5')"
      ],
      "metadata": {
        "id": "F5rDXc8O49FU"
      },
      "execution_count": null,
      "outputs": []
    },
    {
      "cell_type": "code",
      "source": [
        "model5.evaluate(validation_generator)"
      ],
      "metadata": {
        "colab": {
          "base_uri": "https://localhost:8080/"
        },
        "id": "WTsuvqqi5TqO",
        "outputId": "95a6646e-8fb2-477c-af88-dae65dfcaeee"
      },
      "execution_count": null,
      "outputs": [
        {
          "output_type": "stream",
          "name": "stdout",
          "text": [
            "13/13 [==============================] - 1s 19ms/step - loss: 0.1790 - acc: 0.9532\n"
          ]
        },
        {
          "output_type": "execute_result",
          "data": {
            "text/plain": [
              "[0.17895452678203583, 0.953201949596405]"
            ]
          },
          "metadata": {},
          "execution_count": 20
        }
      ]
    },
    {
      "cell_type": "markdown",
      "metadata": {
        "id": "dOy-IQMuU4l0"
      },
      "source": [
        "## Evaluate the trained model"
      ]
    },
    {
      "cell_type": "code",
      "execution_count": null,
      "metadata": {
        "id": "eeWExstNGdnK"
      },
      "outputs": [],
      "source": [
        "from PIL import Image\n",
        "import numpy as np\n",
        "from skimage import transform\n",
        "def load(filename):\n",
        "   img = Image.open(filename)\n",
        "   np_image = np.array(img).astype('float32')/255\n",
        "   np_image = transform.resize(np_image, (32, 32,1))\n",
        "   np_image = (np.expand_dims(np_image, 0))\n",
        "   return np_image"
      ]
    },
    {
      "cell_type": "code",
      "execution_count": null,
      "metadata": {
        "colab": {
          "base_uri": "https://localhost:8080/"
        },
        "id": "sgjQL4PMKtnW",
        "outputId": "74daf91f-ce7f-4ab9-eb74-9ec86318cf7b"
      },
      "outputs": [
        {
          "data": {
            "text/plain": [
              "{0: 'alef',\n",
              " 1: 'ayin',\n",
              " 2: 'beit',\n",
              " 3: 'chadic',\n",
              " 4: 'chadic sofit',\n",
              " 5: 'chaf',\n",
              " 6: 'chaf sofit',\n",
              " 7: 'chet',\n",
              " 8: 'dalet',\n",
              " 9: 'gimel',\n",
              " 10: 'hai',\n",
              " 11: 'koof',\n",
              " 12: 'lamed',\n",
              " 13: 'mem',\n",
              " 14: 'mem sofit',\n",
              " 15: 'noon',\n",
              " 16: 'noon sofit',\n",
              " 17: 'phei',\n",
              " 18: 'phei sofit',\n",
              " 19: 'rashe',\n",
              " 20: 'samech',\n",
              " 21: 'sheen',\n",
              " 22: 'taf',\n",
              " 23: 'tet',\n",
              " 24: 'vav',\n",
              " 25: 'yood',\n",
              " 26: 'zain'}"
            ]
          },
          "execution_count": 18,
          "metadata": {},
          "output_type": "execute_result"
        }
      ],
      "source": [
        "import collections\n",
        "my_dict = train_generator.class_indices\n",
        "inv_map = {v: k for k, v in my_dict.items()}\n",
        "inv_map"
      ]
    },
    {
      "cell_type": "code",
      "execution_count": null,
      "metadata": {
        "id": "aLvWQRhrcjTP"
      },
      "outputs": [],
      "source": [
        "letter_hai = '/content/letter hai.png'\n",
        "letter_vav = '/content/letter vav.png'\n",
        "letter_zain = '/content/letter zain.png'\n",
        "letter_dalet = '/content/letter dalet.png'\n",
        "letter_beit = '/content/letter beit.png'"
      ]
    },
    {
      "cell_type": "code",
      "execution_count": null,
      "metadata": {
        "id": "Xg_653oGCL2p"
      },
      "outputs": [],
      "source": [
        "for i in [letter_hai, letter_vav, letter_zain, letter_dalet, letter_beit]:\n",
        "  pre_process_per_image(i)"
      ]
    },
    {
      "cell_type": "code",
      "execution_count": null,
      "metadata": {
        "colab": {
          "base_uri": "https://localhost:8080/"
        },
        "id": "2qJMfhRtCKZ7",
        "outputId": "db9bf761-3abc-4915-b5cc-12678e886b95"
      },
      "outputs": [
        {
          "name": "stdout",
          "output_type": "stream",
          "text": [
            "hai: 0.96768683\n",
            "vav: 0.96179324\n",
            "zain: 0.58224696\n",
            "chadic: 0.5955921\n",
            "beit: 0.71255153\n"
          ]
        }
      ],
      "source": [
        "for i in [letter_hai, letter_vav, letter_zain, letter_dalet, letter_beit]:\n",
        "    image = load(i)\n",
        "    prediction = model(image)\n",
        "    print(inv_map[np.argmax(prediction[0])] + \": \" + str(np.max(prediction[0])))"
      ]
    },
    {
      "cell_type": "code",
      "execution_count": null,
      "metadata": {
        "id": "q22LXJfh8JKC"
      },
      "outputs": [],
      "source": [
        "model.load_weights('best_model.h5')"
      ]
    }
  ],
  "metadata": {
    "accelerator": "GPU",
    "colab": {
      "provenance": []
    },
    "gpuClass": "standard",
    "kernelspec": {
      "display_name": "Python 3",
      "name": "python3"
    },
    "language_info": {
      "name": "python"
    }
  },
  "nbformat": 4,
  "nbformat_minor": 0
}